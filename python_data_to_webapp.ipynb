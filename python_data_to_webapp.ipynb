{
 "cells": [
  {
   "cell_type": "markdown",
   "metadata": {},
   "source": [
    "**Install dependencies**"
   ]
  },
  {
   "cell_type": "code",
   "execution_count": 2,
   "metadata": {},
   "outputs": [],
   "source": [
    "import yfinance as yf\n",
    "import pg8000.native\n",
    "import ssl\n",
    "from pg8000 import Cursor"
   ]
  },
  {
   "cell_type": "code",
   "execution_count": 5,
   "metadata": {},
   "outputs": [
    {
     "data": {
      "text/html": [
       "<div>\n",
       "<style scoped>\n",
       "    .dataframe tbody tr th:only-of-type {\n",
       "        vertical-align: middle;\n",
       "    }\n",
       "\n",
       "    .dataframe tbody tr th {\n",
       "        vertical-align: top;\n",
       "    }\n",
       "\n",
       "    .dataframe thead th {\n",
       "        text-align: right;\n",
       "    }\n",
       "</style>\n",
       "<table border=\"1\" class=\"dataframe\">\n",
       "  <thead>\n",
       "    <tr style=\"text-align: right;\">\n",
       "      <th></th>\n",
       "      <th>Open</th>\n",
       "      <th>High</th>\n",
       "      <th>Low</th>\n",
       "      <th>Close</th>\n",
       "      <th>Volume</th>\n",
       "      <th>Dividends</th>\n",
       "      <th>Stock Splits</th>\n",
       "      <th>Date</th>\n",
       "    </tr>\n",
       "    <tr>\n",
       "      <th>Date</th>\n",
       "      <th></th>\n",
       "      <th></th>\n",
       "      <th></th>\n",
       "      <th></th>\n",
       "      <th></th>\n",
       "      <th></th>\n",
       "      <th></th>\n",
       "      <th></th>\n",
       "    </tr>\n",
       "  </thead>\n",
       "  <tbody>\n",
       "    <tr>\n",
       "      <th>2010-06-29</th>\n",
       "      <td>3.800</td>\n",
       "      <td>5.000</td>\n",
       "      <td>3.508</td>\n",
       "      <td>4.778</td>\n",
       "      <td>93831500</td>\n",
       "      <td>0</td>\n",
       "      <td>0.0</td>\n",
       "      <td>2010-06-29</td>\n",
       "    </tr>\n",
       "    <tr>\n",
       "      <th>2010-06-30</th>\n",
       "      <td>5.158</td>\n",
       "      <td>6.084</td>\n",
       "      <td>4.660</td>\n",
       "      <td>4.766</td>\n",
       "      <td>85935500</td>\n",
       "      <td>0</td>\n",
       "      <td>0.0</td>\n",
       "      <td>2010-06-30</td>\n",
       "    </tr>\n",
       "    <tr>\n",
       "      <th>2010-07-01</th>\n",
       "      <td>5.000</td>\n",
       "      <td>5.184</td>\n",
       "      <td>4.054</td>\n",
       "      <td>4.392</td>\n",
       "      <td>41094000</td>\n",
       "      <td>0</td>\n",
       "      <td>0.0</td>\n",
       "      <td>2010-07-01</td>\n",
       "    </tr>\n",
       "    <tr>\n",
       "      <th>2010-07-02</th>\n",
       "      <td>4.600</td>\n",
       "      <td>4.620</td>\n",
       "      <td>3.742</td>\n",
       "      <td>3.840</td>\n",
       "      <td>25699000</td>\n",
       "      <td>0</td>\n",
       "      <td>0.0</td>\n",
       "      <td>2010-07-02</td>\n",
       "    </tr>\n",
       "    <tr>\n",
       "      <th>2010-07-06</th>\n",
       "      <td>4.000</td>\n",
       "      <td>4.000</td>\n",
       "      <td>3.166</td>\n",
       "      <td>3.222</td>\n",
       "      <td>34334500</td>\n",
       "      <td>0</td>\n",
       "      <td>0.0</td>\n",
       "      <td>2010-07-06</td>\n",
       "    </tr>\n",
       "    <tr>\n",
       "      <th>...</th>\n",
       "      <td>...</td>\n",
       "      <td>...</td>\n",
       "      <td>...</td>\n",
       "      <td>...</td>\n",
       "      <td>...</td>\n",
       "      <td>...</td>\n",
       "      <td>...</td>\n",
       "      <td>...</td>\n",
       "    </tr>\n",
       "    <tr>\n",
       "      <th>2010-11-11</th>\n",
       "      <td>5.720</td>\n",
       "      <td>5.820</td>\n",
       "      <td>5.466</td>\n",
       "      <td>5.608</td>\n",
       "      <td>9726500</td>\n",
       "      <td>0</td>\n",
       "      <td>0.0</td>\n",
       "      <td>2010-11-11</td>\n",
       "    </tr>\n",
       "    <tr>\n",
       "      <th>2010-11-12</th>\n",
       "      <td>5.650</td>\n",
       "      <td>6.100</td>\n",
       "      <td>5.614</td>\n",
       "      <td>5.968</td>\n",
       "      <td>13645500</td>\n",
       "      <td>0</td>\n",
       "      <td>0.0</td>\n",
       "      <td>2010-11-12</td>\n",
       "    </tr>\n",
       "    <tr>\n",
       "      <th>2010-11-15</th>\n",
       "      <td>6.044</td>\n",
       "      <td>6.588</td>\n",
       "      <td>6.044</td>\n",
       "      <td>6.160</td>\n",
       "      <td>13114500</td>\n",
       "      <td>0</td>\n",
       "      <td>0.0</td>\n",
       "      <td>2010-11-15</td>\n",
       "    </tr>\n",
       "    <tr>\n",
       "      <th>2010-11-16</th>\n",
       "      <td>6.200</td>\n",
       "      <td>6.280</td>\n",
       "      <td>5.684</td>\n",
       "      <td>5.934</td>\n",
       "      <td>6738000</td>\n",
       "      <td>0</td>\n",
       "      <td>0.0</td>\n",
       "      <td>2010-11-16</td>\n",
       "    </tr>\n",
       "    <tr>\n",
       "      <th>2010-11-17</th>\n",
       "      <td>6.040</td>\n",
       "      <td>6.150</td>\n",
       "      <td>5.722</td>\n",
       "      <td>5.898</td>\n",
       "      <td>3750000</td>\n",
       "      <td>0</td>\n",
       "      <td>0.0</td>\n",
       "      <td>2010-11-17</td>\n",
       "    </tr>\n",
       "  </tbody>\n",
       "</table>\n",
       "<p>100 rows × 8 columns</p>\n",
       "</div>"
      ],
      "text/plain": [
       "             Open   High    Low  Close    Volume  Dividends  Stock Splits  \\\n",
       "Date                                                                        \n",
       "2010-06-29  3.800  5.000  3.508  4.778  93831500          0           0.0   \n",
       "2010-06-30  5.158  6.084  4.660  4.766  85935500          0           0.0   \n",
       "2010-07-01  5.000  5.184  4.054  4.392  41094000          0           0.0   \n",
       "2010-07-02  4.600  4.620  3.742  3.840  25699000          0           0.0   \n",
       "2010-07-06  4.000  4.000  3.166  3.222  34334500          0           0.0   \n",
       "...           ...    ...    ...    ...       ...        ...           ...   \n",
       "2010-11-11  5.720  5.820  5.466  5.608   9726500          0           0.0   \n",
       "2010-11-12  5.650  6.100  5.614  5.968  13645500          0           0.0   \n",
       "2010-11-15  6.044  6.588  6.044  6.160  13114500          0           0.0   \n",
       "2010-11-16  6.200  6.280  5.684  5.934   6738000          0           0.0   \n",
       "2010-11-17  6.040  6.150  5.722  5.898   3750000          0           0.0   \n",
       "\n",
       "                 Date  \n",
       "Date                   \n",
       "2010-06-29 2010-06-29  \n",
       "2010-06-30 2010-06-30  \n",
       "2010-07-01 2010-07-01  \n",
       "2010-07-02 2010-07-02  \n",
       "2010-07-06 2010-07-06  \n",
       "...               ...  \n",
       "2010-11-11 2010-11-11  \n",
       "2010-11-12 2010-11-12  \n",
       "2010-11-15 2010-11-15  \n",
       "2010-11-16 2010-11-16  \n",
       "2010-11-17 2010-11-17  \n",
       "\n",
       "[100 rows x 8 columns]"
      ]
     },
     "execution_count": 5,
     "metadata": {},
     "output_type": "execute_result"
    }
   ],
   "source": [
    "# get Tesla stock information\n",
    "tsla = yf.Ticker(\"TSLA\")\n",
    "\n",
    "# display trading and company information\n",
    "tsla.info\n",
    "\n",
    "# get historical market data\n",
    "df = tsla.history(period=\"max\")\n",
    "\n",
    "# use index as column (index represents dates)\n",
    "df['Date'] = df.index\n",
    "\n",
    "# number of days\n",
    "len(df)\n",
    "\n",
    "# use only the first 100 rows\n",
    "df = df[:100]\n",
    "\n",
    "# show dataframe\n",
    "df"
   ]
  },
  {
   "cell_type": "markdown",
   "metadata": {},
   "source": [
    "**Credentials**"
   ]
  },
  {
   "cell_type": "code",
   "execution_count": null,
   "metadata": {},
   "outputs": [],
   "source": [
    "# provide credentials obtained from hoster\n",
    "user = 'user-1234'\n",
    "database = 'database-1234'\n",
    "host = 'database.hoster.com'\n",
    "password = 'password-1234'"
   ]
  },
  {
   "cell_type": "markdown",
   "metadata": {},
   "source": [
    "**Connect to database**"
   ]
  },
  {
   "cell_type": "code",
   "execution_count": 125,
   "metadata": {},
   "outputs": [],
   "source": [
    "# establish connection to database\n",
    "conn = pg8000.native.Connection(user=user, database=database, host=host,\n",
    "                              password=password)"
   ]
  },
  {
   "cell_type": "code",
   "execution_count": 127,
   "metadata": {},
   "outputs": [
    {
     "data": {
      "text/plain": [
       "[]"
      ]
     },
     "execution_count": 127,
     "metadata": {},
     "output_type": "execute_result"
    }
   ],
   "source": [
    "# define query to create schema and table in database\n",
    "sql_query =\"\"\"\n",
    "CREATE SCHEMA test;\n",
    "CREATE TABLE test.stocks(\n",
    "        \"date\" date,\n",
    "        \"closing_price\" float);\n",
    "    \"\"\"\n",
    "conn.run(sql_query)"
   ]
  },
  {
   "cell_type": "code",
   "execution_count": 149,
   "metadata": {},
   "outputs": [
    {
     "data": {
      "text/plain": [
       "[]"
      ]
     },
     "execution_count": 149,
     "metadata": {},
     "output_type": "execute_result"
    }
   ],
   "source": [
    "# test whether schema was created successfully\n",
    "conn.run(\"SELECT schema_name FROM information_schema.schemata\")"
   ]
  },
  {
   "cell_type": "code",
   "execution_count": 151,
   "metadata": {},
   "outputs": [
    {
     "data": {
      "text/plain": [
       "[]"
      ]
     },
     "execution_count": 151,
     "metadata": {},
     "output_type": "execute_result"
    }
   ],
   "source": [
    "# define query to insert data into table\n",
    "# create list of lists to transmit results to database\n",
    "\n",
    "s = \"\"\"INSERT INTO test.stocks_3(date, closing_price) VALUES (%s, %s)\"\"\"\n",
    "\n",
    "obj = []\n",
    "for index in range(len(df)):\n",
    "    obj.append([df.Date[index],\n",
    "                df.Close[index]])\n",
    "            \n",
    "    \n",
    "cursor = Cursor(conn)\n",
    "cursor.executemany(s, obj)\n",
    "conn.run(\"COMMIT\")"
   ]
  },
  {
   "cell_type": "code",
   "execution_count": 154,
   "metadata": {},
   "outputs": [
    {
     "name": "stdout",
     "output_type": "stream",
     "text": [
      "[datetime.date(2001, 7, 19), 11.3179740905762]\n",
      "[datetime.date(2001, 7, 20), 11.1985969543457]\n",
      "[datetime.date(2001, 7, 23), 11.1911392211914]\n",
      "[datetime.date(2001, 7, 24), 11.0866861343384]\n",
      "[datetime.date(2001, 7, 25), 11.1538343429565]\n"
     ]
    }
   ],
   "source": [
    "# check data in table\n",
    "for row in conn.run(\"SELECT * FROM test.stocks\")[:5]:\n",
    "    print(row)"
   ]
  }
 ],
 "metadata": {
  "kernelspec": {
   "display_name": "Python 3",
   "language": "python",
   "name": "python3"
  },
  "language_info": {
   "codemirror_mode": {
    "name": "ipython",
    "version": 3
   },
   "file_extension": ".py",
   "mimetype": "text/x-python",
   "name": "python",
   "nbconvert_exporter": "python",
   "pygments_lexer": "ipython3",
   "version": "3.8.3"
  }
 },
 "nbformat": 4,
 "nbformat_minor": 4
}
