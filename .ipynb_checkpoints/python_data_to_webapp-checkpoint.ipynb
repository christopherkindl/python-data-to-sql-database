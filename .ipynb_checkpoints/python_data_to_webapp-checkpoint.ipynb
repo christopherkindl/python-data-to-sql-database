{
 "cells": [
  {
   "cell_type": "markdown",
   "metadata": {},
   "source": [
    "**Install dependencies**"
   ]
  },
  {
   "cell_type": "code",
   "execution_count": 133,
   "metadata": {},
   "outputs": [],
   "source": [
    "import yfinance as yf\n",
    "import pg8000.native\n",
    "import ssl\n",
    "from pg8000 import Cursor"
   ]
  },
  {
   "cell_type": "code",
   "execution_count": 145,
   "metadata": {},
   "outputs": [
    {
     "data": {
      "text/html": [
       "<div>\n",
       "<style scoped>\n",
       "    .dataframe tbody tr th:only-of-type {\n",
       "        vertical-align: middle;\n",
       "    }\n",
       "\n",
       "    .dataframe tbody tr th {\n",
       "        vertical-align: top;\n",
       "    }\n",
       "\n",
       "    .dataframe thead th {\n",
       "        text-align: right;\n",
       "    }\n",
       "</style>\n",
       "<table border=\"1\" class=\"dataframe\">\n",
       "  <thead>\n",
       "    <tr style=\"text-align: right;\">\n",
       "      <th></th>\n",
       "      <th>Open</th>\n",
       "      <th>High</th>\n",
       "      <th>Low</th>\n",
       "      <th>Close</th>\n",
       "      <th>Volume</th>\n",
       "      <th>Dividends</th>\n",
       "      <th>Stock Splits</th>\n",
       "      <th>Date</th>\n",
       "    </tr>\n",
       "    <tr>\n",
       "      <th>Date</th>\n",
       "      <th></th>\n",
       "      <th></th>\n",
       "      <th></th>\n",
       "      <th></th>\n",
       "      <th></th>\n",
       "      <th></th>\n",
       "      <th></th>\n",
       "      <th></th>\n",
       "    </tr>\n",
       "  </thead>\n",
       "  <tbody>\n",
       "    <tr>\n",
       "      <th>2001-07-19</th>\n",
       "      <td>11.265749</td>\n",
       "      <td>11.407503</td>\n",
       "      <td>11.191141</td>\n",
       "      <td>11.317974</td>\n",
       "      <td>34994300</td>\n",
       "      <td>0.0</td>\n",
       "      <td>0</td>\n",
       "      <td>2001-07-19</td>\n",
       "    </tr>\n",
       "    <tr>\n",
       "      <th>2001-07-20</th>\n",
       "      <td>11.228440</td>\n",
       "      <td>11.228440</td>\n",
       "      <td>11.041921</td>\n",
       "      <td>11.198597</td>\n",
       "      <td>9238500</td>\n",
       "      <td>0.0</td>\n",
       "      <td>0</td>\n",
       "      <td>2001-07-20</td>\n",
       "    </tr>\n",
       "    <tr>\n",
       "      <th>2001-07-23</th>\n",
       "      <td>11.191139</td>\n",
       "      <td>11.198600</td>\n",
       "      <td>10.855405</td>\n",
       "      <td>11.191139</td>\n",
       "      <td>7501000</td>\n",
       "      <td>0.0</td>\n",
       "      <td>0</td>\n",
       "      <td>2001-07-23</td>\n",
       "    </tr>\n",
       "    <tr>\n",
       "      <th>2001-07-24</th>\n",
       "      <td>11.153833</td>\n",
       "      <td>11.168755</td>\n",
       "      <td>10.967314</td>\n",
       "      <td>11.086686</td>\n",
       "      <td>3537300</td>\n",
       "      <td>0.0</td>\n",
       "      <td>0</td>\n",
       "      <td>2001-07-24</td>\n",
       "    </tr>\n",
       "    <tr>\n",
       "      <th>2001-07-25</th>\n",
       "      <td>10.967315</td>\n",
       "      <td>11.153834</td>\n",
       "      <td>10.930011</td>\n",
       "      <td>11.153834</td>\n",
       "      <td>4208100</td>\n",
       "      <td>0.0</td>\n",
       "      <td>0</td>\n",
       "      <td>2001-07-25</td>\n",
       "    </tr>\n",
       "    <tr>\n",
       "      <th>...</th>\n",
       "      <td>...</td>\n",
       "      <td>...</td>\n",
       "      <td>...</td>\n",
       "      <td>...</td>\n",
       "      <td>...</td>\n",
       "      <td>...</td>\n",
       "      <td>...</td>\n",
       "      <td>...</td>\n",
       "    </tr>\n",
       "    <tr>\n",
       "      <th>2001-12-07</th>\n",
       "      <td>19.323363</td>\n",
       "      <td>19.360668</td>\n",
       "      <td>18.502680</td>\n",
       "      <td>18.547445</td>\n",
       "      <td>1115400</td>\n",
       "      <td>0.0</td>\n",
       "      <td>0</td>\n",
       "      <td>2001-12-07</td>\n",
       "    </tr>\n",
       "    <tr>\n",
       "      <th>2001-12-10</th>\n",
       "      <td>18.651904</td>\n",
       "      <td>19.547196</td>\n",
       "      <td>18.278866</td>\n",
       "      <td>18.353474</td>\n",
       "      <td>1732100</td>\n",
       "      <td>0.0</td>\n",
       "      <td>0</td>\n",
       "      <td>2001-12-10</td>\n",
       "    </tr>\n",
       "    <tr>\n",
       "      <th>2001-12-11</th>\n",
       "      <td>18.316165</td>\n",
       "      <td>18.562370</td>\n",
       "      <td>18.278861</td>\n",
       "      <td>18.472841</td>\n",
       "      <td>1713200</td>\n",
       "      <td>0.0</td>\n",
       "      <td>0</td>\n",
       "      <td>2001-12-11</td>\n",
       "    </tr>\n",
       "    <tr>\n",
       "      <th>2001-12-12</th>\n",
       "      <td>18.465380</td>\n",
       "      <td>18.875722</td>\n",
       "      <td>18.308705</td>\n",
       "      <td>18.778732</td>\n",
       "      <td>2044100</td>\n",
       "      <td>0.0</td>\n",
       "      <td>0</td>\n",
       "      <td>2001-12-12</td>\n",
       "    </tr>\n",
       "    <tr>\n",
       "      <th>2001-12-13</th>\n",
       "      <td>18.741425</td>\n",
       "      <td>18.748885</td>\n",
       "      <td>17.308959</td>\n",
       "      <td>17.383566</td>\n",
       "      <td>1446600</td>\n",
       "      <td>0.0</td>\n",
       "      <td>0</td>\n",
       "      <td>2001-12-13</td>\n",
       "    </tr>\n",
       "  </tbody>\n",
       "</table>\n",
       "<p>100 rows × 8 columns</p>\n",
       "</div>"
      ],
      "text/plain": [
       "                 Open       High        Low      Close    Volume  Dividends  \\\n",
       "Date                                                                          \n",
       "2001-07-19  11.265749  11.407503  11.191141  11.317974  34994300        0.0   \n",
       "2001-07-20  11.228440  11.228440  11.041921  11.198597   9238500        0.0   \n",
       "2001-07-23  11.191139  11.198600  10.855405  11.191139   7501000        0.0   \n",
       "2001-07-24  11.153833  11.168755  10.967314  11.086686   3537300        0.0   \n",
       "2001-07-25  10.967315  11.153834  10.930011  11.153834   4208100        0.0   \n",
       "...               ...        ...        ...        ...       ...        ...   \n",
       "2001-12-07  19.323363  19.360668  18.502680  18.547445   1115400        0.0   \n",
       "2001-12-10  18.651904  19.547196  18.278866  18.353474   1732100        0.0   \n",
       "2001-12-11  18.316165  18.562370  18.278861  18.472841   1713200        0.0   \n",
       "2001-12-12  18.465380  18.875722  18.308705  18.778732   2044100        0.0   \n",
       "2001-12-13  18.741425  18.748885  17.308959  17.383566   1446600        0.0   \n",
       "\n",
       "            Stock Splits       Date  \n",
       "Date                                 \n",
       "2001-07-19             0 2001-07-19  \n",
       "2001-07-20             0 2001-07-20  \n",
       "2001-07-23             0 2001-07-23  \n",
       "2001-07-24             0 2001-07-24  \n",
       "2001-07-25             0 2001-07-25  \n",
       "...                  ...        ...  \n",
       "2001-12-07             0 2001-12-07  \n",
       "2001-12-10             0 2001-12-10  \n",
       "2001-12-11             0 2001-12-11  \n",
       "2001-12-12             0 2001-12-12  \n",
       "2001-12-13             0 2001-12-13  \n",
       "\n",
       "[100 rows x 8 columns]"
      ]
     },
     "execution_count": 145,
     "metadata": {},
     "output_type": "execute_result"
    }
   ],
   "source": [
    "# get accenture stock information\n",
    "acn = yf.Ticker(\"ACN\")\n",
    "\n",
    "# display trading and company information\n",
    "#acn.info\n",
    "\n",
    "# get historical market data\n",
    "df = msft.history(period=\"max\")\n",
    "\n",
    "# use index as column (index represents dates)\n",
    "df['Date'] = df.index\n",
    "\n",
    "# number of days\n",
    "len(df)\n",
    "\n",
    "# use only the first 100 rows\n",
    "df = df[:100]\n",
    "\n",
    "# show dataframe\n",
    "df"
   ]
  },
  {
   "cell_type": "code",
   "execution_count": 143,
   "metadata": {},
   "outputs": [
    {
     "data": {
      "text/plain": [
       "Index(['Open', 'High', 'Low', 'Close', 'Volume', 'Dividends', 'Stock Splits',\n",
       "       'date'],\n",
       "      dtype='object')"
      ]
     },
     "execution_count": 143,
     "metadata": {},
     "output_type": "execute_result"
    }
   ],
   "source": [
    "df.columns"
   ]
  },
  {
   "cell_type": "markdown",
   "metadata": {},
   "source": [
    "**Credentials**"
   ]
  },
  {
   "cell_type": "code",
   "execution_count": 70,
   "metadata": {},
   "outputs": [],
   "source": [
    "config = {\n",
    "    'database': 'defaultdb',\n",
    "    'user': 'avnadmin',\n",
    "    'password': 'xlc228btwpihnl5m',\n",
    "    'host': 'pg-230a2cc3-christopher-eca5.aivencloud.com',\n",
    "    'port': 16754,\n",
    "    #'ssl' : True\n",
    "}\n",
    "\n",
    "#connect (\n",
    "#user,\n",
    "#host: str=str,\n",
    "#unix_sock: __class__=None,\n",
    "#port: int=5432,\n",
    "#database: __class__=None,\n",
    "#password: __class__=None,\n",
    "#ssl: __class__=None,\n",
    "#timeout: __class__=None,\n",
    "#application_name: __class__=None,\n",
    "#max_prepared_statements: int=1000,\n",
    "#tcp_keepalive: bool=True\n",
    "#)"
   ]
  },
  {
   "cell_type": "markdown",
   "metadata": {},
   "source": [
    "**Connect to database**"
   ]
  },
  {
   "cell_type": "code",
   "execution_count": 125,
   "metadata": {},
   "outputs": [],
   "source": [
    "conn = pg8000.native.Connection(user='arhdrled', database = 'arhdrled', host='rogue.db.elephantsql.com',\n",
    "                              password = 'xUJXlLB13pjmR0RZw5WDvqxxPc9LqWzh')"
   ]
  },
  {
   "cell_type": "code",
   "execution_count": 128,
   "metadata": {},
   "outputs": [
    {
     "data": {
      "text/plain": [
       "[['pg_catalog'],\n",
       " ['public'],\n",
       " ['information_schema'],\n",
       " ['schema'],\n",
       " ['medium'],\n",
       " ['test']]"
      ]
     },
     "execution_count": 128,
     "metadata": {},
     "output_type": "execute_result"
    }
   ],
   "source": [
    "conn.run(\"SELECT schema_name FROM information_schema.schemata\")"
   ]
  },
  {
   "cell_type": "code",
   "execution_count": 127,
   "metadata": {},
   "outputs": [
    {
     "data": {
      "text/plain": [
       "[]"
      ]
     },
     "execution_count": 127,
     "metadata": {},
     "output_type": "execute_result"
    }
   ],
   "source": [
    "sql_query =\"\"\"\n",
    "CREATE SCHEMA test;\n",
    "CREATE TABLE test.stocks(\n",
    "        \"date\" date,\n",
    "        \"closing_price\" float);\n",
    "    \"\"\"\n",
    "conn.run(sql_query)"
   ]
  },
  {
   "cell_type": "code",
   "execution_count": 149,
   "metadata": {},
   "outputs": [
    {
     "data": {
      "text/plain": [
       "[]"
      ]
     },
     "execution_count": 149,
     "metadata": {},
     "output_type": "execute_result"
    }
   ],
   "source": [
    "sql_query =\"\"\"\n",
    "CREATE TABLE test.stocks_3(\n",
    "        \"date\" date,\n",
    "        \"closing_price\" float);\n",
    "    \"\"\"\n",
    "conn.run(sql_query)"
   ]
  },
  {
   "cell_type": "code",
   "execution_count": 151,
   "metadata": {},
   "outputs": [
    {
     "data": {
      "text/plain": [
       "[]"
      ]
     },
     "execution_count": 151,
     "metadata": {},
     "output_type": "execute_result"
    }
   ],
   "source": [
    "# create list of lists to transmit results to database\n",
    "\n",
    "s = \"\"\"INSERT INTO test.stocks_3(date, closing_price) VALUES (%s, %s)\"\"\"\n",
    "\n",
    "obj = []\n",
    "for index in range(len(df)):\n",
    "    obj.append([df.Date[index],\n",
    "                df.Close[index]])\n",
    "            \n",
    "    \n",
    "cursor = Cursor(conn)\n",
    "cursor.executemany(s, obj)\n",
    "conn.run(\"COMMIT\")"
   ]
  },
  {
   "cell_type": "code",
   "execution_count": 154,
   "metadata": {},
   "outputs": [
    {
     "name": "stdout",
     "output_type": "stream",
     "text": [
      "[datetime.date(2001, 7, 19), 11.3179740905762]\n",
      "[datetime.date(2001, 7, 20), 11.1985969543457]\n",
      "[datetime.date(2001, 7, 23), 11.1911392211914]\n",
      "[datetime.date(2001, 7, 24), 11.0866861343384]\n",
      "[datetime.date(2001, 7, 25), 11.1538343429565]\n"
     ]
    }
   ],
   "source": [
    "for row in conn.run(\"SELECT * FROM test.stocks\")[:5]:\n",
    "    print(row)"
   ]
  },
  {
   "cell_type": "code",
   "execution_count": null,
   "metadata": {},
   "outputs": [],
   "source": []
  }
 ],
 "metadata": {
  "kernelspec": {
   "display_name": "Python 3",
   "language": "python",
   "name": "python3"
  },
  "language_info": {
   "codemirror_mode": {
    "name": "ipython",
    "version": 3
   },
   "file_extension": ".py",
   "mimetype": "text/x-python",
   "name": "python",
   "nbconvert_exporter": "python",
   "pygments_lexer": "ipython3",
   "version": "3.8.3"
  }
 },
 "nbformat": 4,
 "nbformat_minor": 4
}
